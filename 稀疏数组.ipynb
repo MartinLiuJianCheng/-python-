{
 "cells": [
  {
   "cell_type": "code",
   "execution_count": 113,
   "metadata": {},
   "outputs": [
    {
     "name": "stdout",
     "output_type": "stream",
     "text": [
      "[[0 0 0 0 0 0 0 0 0 0 0]\n",
      " [0 0 1 0 0 0 0 0 0 0 0]\n",
      " [0 0 0 1 0 0 0 0 0 0 0]\n",
      " [0 0 0 0 0 0 0 0 0 0 0]\n",
      " [0 0 0 0 0 0 0 0 0 0 0]\n",
      " [0 0 0 0 0 0 0 0 0 0 0]\n",
      " [0 0 0 0 0 0 0 0 0 0 0]\n",
      " [0 0 0 0 0 0 0 0 0 0 0]\n",
      " [0 0 0 0 0 0 0 0 0 0 0]\n",
      " [0 0 0 0 0 0 0 0 0 0 0]\n",
      " [0 0 0 0 0 0 0 0 0 0 0]]\n",
      "\n",
      "[[11 11  2]\n",
      " [ 2  3  1]\n",
      " [ 3  4  1]]\n"
     ]
    }
   ],
   "source": [
    "import numpy as np\n",
    "\n",
    "#可以用来计算原始矩阵的不为0的个数\n",
    "def sum(Array):\n",
    "    s = 0\n",
    "    for i in range(Array.shape[0]):\n",
    "        for j in range(Array.shape[1]):\n",
    "            if Array[i][j]!=0:\n",
    "                s = s+1\n",
    "    return s  \n",
    "\n",
    "#将arr矩阵里面的非零位置存放在列表里安\n",
    "def none_list(Array):\n",
    "    cow = 0\n",
    "    li = []\n",
    "    li0 = []\n",
    "    for i in range(Array.shape[0]):\n",
    "        ran = 0\n",
    "        cow = cow+1\n",
    "        for j in range(Array.shape[1]):\n",
    "            ran = ran+1\n",
    "            if Array[i][j]!=0:\n",
    "                li0 = [cow,ran]\n",
    "                li.append(li0)\n",
    "    return np.array(li)  \n",
    "\n",
    "#稀疏矩阵除了第一行外，将剩余的不为零的地方进行替换\n",
    "def sparse_change(Array,sparse):\n",
    "    for i in range(sum(Array)):\n",
    "        sparse [i+1][0] = none_list(Array)[i][0]\n",
    "        sparse [i+1][1] = none_list(Array)[i][1]\n",
    "        sparse [i+1][2] = Array[none_list(Array)[i][0]-1][none_list(Array)[i][1]-1]\n",
    "    return sparse\n",
    "\n",
    "#初始化一个数组，arr为原始数组\n",
    "arr = np.zeros((11,11),dtype = int)\n",
    "arr[1][2] = arr[2][3] = 1\n",
    "\n",
    "#初始化稀疏数组，sparseArray为稀疏数组，并对稀疏数组的第一行进行初始化\n",
    "sparseArray = np.zeros((sum(arr)+1,3),dtype=int)\n",
    "sparseArray[0][0] = arr.shape[0]\n",
    "sparseArray[0][1] = arr.shape[1]\n",
    "sparseArray[0][2] = sum(arr)\n",
    "\n",
    "#将稀疏数组的其他行进行初始化\n",
    "sparseArray = sparse_change(arr,sparseArray)\n",
    "print(arr)\n",
    "print()\n",
    "print(sparseArray)"
   ]
  }
 ],
 "metadata": {
  "kernelspec": {
   "display_name": "L3.6",
   "language": "python",
   "name": "l3.6"
  },
  "language_info": {
   "codemirror_mode": {
    "name": "ipython",
    "version": 3
   },
   "file_extension": ".py",
   "mimetype": "text/x-python",
   "name": "python",
   "nbconvert_exporter": "python",
   "pygments_lexer": "ipython3",
   "version": "3.6.13"
  }
 },
 "nbformat": 4,
 "nbformat_minor": 2
}
